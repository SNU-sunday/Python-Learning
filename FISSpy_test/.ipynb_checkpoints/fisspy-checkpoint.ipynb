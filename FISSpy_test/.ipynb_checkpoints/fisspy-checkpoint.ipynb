{
 "cells": [
  {
   "cell_type": "markdown",
   "metadata": {},
   "source": [
    "# FISSpy"
   ]
  },
  {
   "cell_type": "markdown",
   "metadata": {},
   "source": [
    "#### FISSpy is a data analysis tool for the [NST/FISS instrument](http://fiss.snu.ac.kr) based on Python.\n",
    "\n",
    "\n",
    "website: http://fiss.snu.ac.kr\n",
    "\n",
    "code : https://github.com/SNU-sunday/FISS-PYTHON\n",
    "\n",
    "Email : jhkang@astro.snu.ac.kr\n",
    "\n",
    "### Requirements\n",
    "* [NumPy](http://numpy.scipy.org/)\n",
    "* [Scipy](http://www.scipy.org/)\n",
    "* [Matplotlib](http://matplotlib.sourceforge.net/)\n",
    "* [Astropy](http://astropy.org)\n",
    "* [Interpolation](https://github.com/EconForge/interpolation.py)"
   ]
  },
  {
   "cell_type": "markdown",
   "metadata": {},
   "source": [
    "# Setting"
   ]
  },
  {
   "cell_type": "markdown",
   "metadata": {},
   "source": [
    "At first, we set up the notebook for inline plots"
   ]
  },
  {
   "cell_type": "code",
   "execution_count": null,
   "metadata": {
    "collapsed": true
   },
   "outputs": [],
   "source": [
    "%matplotlib inlie"
   ]
  },
  {
   "cell_type": "code",
   "execution_count": null,
   "metadata": {
    "collapsed": true
   },
   "outputs": [],
   "source": []
  },
  {
   "cell_type": "code",
   "execution_count": null,
   "metadata": {
    "collapsed": true
   },
   "outputs": [],
   "source": []
  }
 ],
 "metadata": {
  "anaconda-cloud": {}
 },
 "nbformat": 4,
 "nbformat_minor": 0
}
