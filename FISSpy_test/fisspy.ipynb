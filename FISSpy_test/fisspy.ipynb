{
 "cells": [
  {
   "cell_type": "markdown",
   "metadata": {},
   "source": [
    "# FISSpy"
   ]
  },
  {
   "cell_type": "markdown",
   "metadata": {},
   "source": [
    "#### FISSpy is a data analysis tool for the [NST/FISS instrument](http://fiss.snu.ac.kr) based on Python.\n",
    "\n",
    "\n",
    "website: http://fiss.snu.ac.kr\n",
    "\n",
    "code : https://github.com/SNU-sunday/FISS-PYTHON\n",
    "\n",
    "Email : jhkang@astro.snu.ac.kr\n",
    "\n",
    "### Requirements\n",
    "* [NumPy](http://numpy.scipy.org/)\n",
    "* [Scipy](http://www.scipy.org/)\n",
    "* [Matplotlib](http://matplotlib.sourceforge.net/)\n",
    "* [Astropy](http://astropy.org)\n",
    "* [Interpolation](https://github.com/EconForge/interpolation.py)"
   ]
  },
  {
   "cell_type": "markdown",
   "metadata": {},
   "source": [
    "# Setting"
   ]
  },
  {
   "cell_type": "markdown",
   "metadata": {},
   "source": [
    "At first, we set up the notebook for inline plots"
   ]
  },
  {
   "cell_type": "code",
   "execution_count": 1,
   "metadata": {
    "collapsed": true
   },
   "outputs": [],
   "source": [
    "%matplotlib inline"
   ]
  },
  {
   "cell_type": "code",
   "execution_count": 2,
   "metadata": {
    "collapsed": true
   },
   "outputs": [],
   "source": [
    "import numpy as np"
   ]
  },
  {
   "cell_type": "code",
   "execution_count": null,
   "metadata": {
    "collapsed": true
   },
   "outputs": [],
   "source": []
  }
 ],
 "metadata": {
  "anaconda-cloud": {},
  "kernelspec": {
   "display_name": "Python [Root]",
   "language": "python",
   "name": "Python [Root]"
  },
  "language_info": {
   "codemirror_mode": {
    "name": "ipython",
    "version": 3
   },
   "file_extension": ".py",
   "mimetype": "text/x-python",
   "name": "python",
   "nbconvert_exporter": "python",
   "pygments_lexer": "ipython3",
   "version": "3.5.2"
  }
 },
 "nbformat": 4,
 "nbformat_minor": 0
}
